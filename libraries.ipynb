{
 "cells": [
  {
   "cell_type": "code",
   "execution_count": 3,
   "id": "838515c8",
   "metadata": {},
   "outputs": [],
   "source": [
    "import numpy as np\n",
    "from tqdm import tqdm\n",
    "import time\n",
    "import csv\n",
    "import pandas as pd\n",
    "import os\n",
    "import shutil\n",
    "from skimage import data\n",
    "from skimage import color\n",
    "from skimage.util.shape import view_as_windows\n",
    "from skimage.util import montage as montage2d\n",
    "from skimage.io import imread\n",
    "from skimage.transform import resize\n",
    "from skimage.util import view_as_blocks\n",
    "from scipy import ndimage as ndi\n",
    "import matplotlib.pyplot as plt\n",
    "import seaborn as sns\n",
    "from sklearn.metrics.pairwise import pairwise_distances\n",
    "from skimage.util import view_as_blocks\n",
    "from sklearn.feature_extraction.image import extract_patches_2d\n",
    "from random import randint,random,sample\n",
    "from operator import add\n",
    "from functools import reduce"
   ]
  },
  {
   "cell_type": "code",
   "execution_count": null,
   "id": "29e053ab",
   "metadata": {},
   "outputs": [],
   "source": []
  }
 ],
 "metadata": {
  "kernelspec": {
   "display_name": "base",
   "language": "python",
   "name": "python3"
  },
  "language_info": {
   "codemirror_mode": {
    "name": "ipython",
    "version": 3
   },
   "file_extension": ".py",
   "mimetype": "text/x-python",
   "name": "python",
   "nbconvert_exporter": "python",
   "pygments_lexer": "ipython3",
   "version": "3.7.6"
  },
  "vscode": {
   "interpreter": {
    "hash": "3174ab881349d02230d0fd206fa4f068817145ae50885b59998c8fcf01d6fd57"
   }
  }
 },
 "nbformat": 4,
 "nbformat_minor": 5
}
