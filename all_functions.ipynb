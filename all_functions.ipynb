{
 "cells": [
  {
   "cell_type": "code",
   "execution_count": 6,
   "id": "182c2a70",
   "metadata": {},
   "outputs": [],
   "source": [
    "%run libraries.ipynb"
   ]
  },
  {
   "cell_type": "markdown",
   "id": "af75cbab",
   "metadata": {},
   "source": [
    "## Pairwise distances and Orientation"
   ]
  },
  {
   "cell_type": "code",
   "execution_count": 2,
   "id": "71077c19",
   "metadata": {},
   "outputs": [],
   "source": [
    "between = 1\n",
    "orientations = [\"bottom\", \"top\", \"left\", \"right\"]\n",
    "top_ = lambda X,between: X[0: between, :].reshape(1, -1)\n",
    "right_ = lambda X, between: X[:, 0:between].reshape(1, -1)\n",
    "bottom_ = lambda X, between: X[(-1-between):-1, :].reshape(1, -1)\n",
    "left_ = lambda X,between: X[:, (-1-between):-1].reshape(1, -1)\n",
    "\n",
    "def border_gap(A,B):\n",
    "    between = 1\n",
    "    dist1 = pairwise_distances(top_(A,between), bottom_(B,between), metric = \"cosine\")[0][0]\n",
    "    dist2 = pairwise_distances(bottom_(A,between), top_(B,between), metric = \"cosine\")[0][0]\n",
    "    dist3 = pairwise_distances(right_(A,between), left_(B,between), metric = \"cosine\")[0][0]\n",
    "    dist4 = pairwise_distances(left_(A,between), right_(B,between), metric = \"cosine\")[0][0]\n",
    "    return [dist1,dist2,dist3,dist4]\n",
    "\n",
    "def block_distance(A,B):\n",
    "    ed = border_gap(A,B)\n",
    "    return np.min(ed), np.argmin(ed)"
   ]
  },
  {
   "cell_type": "markdown",
   "id": "1e996e80",
   "metadata": {},
   "source": [
    "## Individuals Function"
   ]
  },
  {
   "cell_type": "code",
   "execution_count": 3,
   "id": "3918899c",
   "metadata": {},
   "outputs": [],
   "source": [
    "def individual(length):\n",
    "    ui = np.arange(length)\n",
    "    np.random.shuffle(ui)\n",
    "    return ui.tolist()"
   ]
  },
  {
   "cell_type": "markdown",
   "id": "bb5959c3",
   "metadata": {},
   "source": [
    "## Individual tiles edges in a list"
   ]
  },
  {
   "cell_type": "code",
   "execution_count": null,
   "id": "52f5adb2",
   "metadata": {},
   "outputs": [],
   "source": [
    "def individual_boundrylist(individual):\n",
    "    n = int(np.sqrt(len(individual)))\n",
    "    A = np.array(individual).reshape(n,n)\n",
    "    observe_edges = set()\n",
    "    for i in np.arange(n):\n",
    "        for j in np.arange(n):\n",
    "            if j+1 < n:\n",
    "                ii = A[i,j]\n",
    "                jj = A[i, j+1]\n",
    "                observe_edges.add((ii,jj,meO[ii, jj]))\n",
    "            if i+1 < n:\n",
    "                ii = A[i, j]\n",
    "                jj = A[i+1, j]\n",
    "                observe_edges.add((ii, jj, meO[ii, jj]))\n",
    "    return observe_edges"
   ]
  },
  {
   "cell_type": "markdown",
   "id": "65b56385",
   "metadata": {},
   "source": [
    "## Fitness score Function"
   ]
  },
  {
   "cell_type": "code",
   "execution_count": 4,
   "id": "f5594134",
   "metadata": {},
   "outputs": [],
   "source": [
    "def fitness_score(individual, target = 1):\n",
    "    elist = individual_boundrylist(individual)\n",
    "    return (np.sum([me[e[0], e[1]] for e in elist]))"
   ]
  },
  {
   "cell_type": "markdown",
   "id": "cd5dbe83",
   "metadata": {},
   "source": [
    "## Generate Population and Average Fitness of the Population"
   ]
  },
  {
   "cell_type": "code",
   "execution_count": 5,
   "id": "51e875db",
   "metadata": {},
   "outputs": [],
   "source": [
    "def population(count, length):\n",
    "    return [ individual(length) for x in range(count)]\n",
    "\n",
    "def category(pop, target):\n",
    "    summed = reduce(add, (fitness_score(x, target) for x in pop))\n",
    "    return summed / (len(pop) * 1.0)"
   ]
  },
  {
   "cell_type": "markdown",
   "id": "a9348979",
   "metadata": {},
   "source": [
    "## Tiles edges in a list with Orientation Information"
   ]
  },
  {
   "cell_type": "code",
   "execution_count": null,
   "id": "291d6100",
   "metadata": {},
   "outputs": [],
   "source": [
    "def boundry_pairs(individual):\n",
    "    n = int(np.sqrt(len(individual)))\n",
    "    m = n\n",
    "    A = np.array(individual).reshape(n,n)\n",
    "    observe_edges = set()\n",
    "    for i in np.arange(n):\n",
    "        for j in np.arange(m):\n",
    "            if j+1 <m:\n",
    "                ii = A[i, j]\n",
    "                jj = A[i, j+1]\n",
    "                if i < j:\n",
    "                    obs = (ii, jj, 3.0, ((i,j), (i, j+1)))\n",
    "                else:\n",
    "                    obs = (ii, jj, 2.0, ((i,j), (i,j+1)))\n",
    "                observe_edges.add(obs)\n",
    "            if i+1 < n:\n",
    "                ii = A[i, j]\n",
    "                jj = A[i+1, j]\n",
    "                if i < j:\n",
    "                    obs = (ii, jj, 0.0, ((i,j), (i+1, j)))\n",
    "                else:\n",
    "                    obs = (ii, jj, 1.0, ((i,j), (i+1, j)))\n",
    "                    \n",
    "                observe_edges.add(obs)\n",
    "    return list(observe_edges)"
   ]
  },
  {
   "cell_type": "markdown",
   "id": "4226d299",
   "metadata": {},
   "source": [
    "## Crossover of Parents"
   ]
  },
  {
   "cell_type": "code",
   "execution_count": null,
   "id": "cc3e3565",
   "metadata": {},
   "outputs": [],
   "source": [
    "def crossover(male, female):\n",
    "    \n",
    "    child = np.zeros(male.shape[0]).astype(int)\n",
    "    child[:] = -1\n",
    "    \n",
    "    match_indices = np.where(male == female)\n",
    "    child[match_indices] = male[match_indices]\n",
    "    \n",
    "    if child.sum() == -1*child.shape[0]:\n",
    "        idx = np.random.choice(np.arange(child.shape[0]))\n",
    "        child[idx] = female[idx]\n",
    "        \n",
    "    while (child.sum() < np.arange(child.shape[0]).sum()):\n",
    "        child = update_boundary(child)\n",
    "        \n",
    "    return child"
   ]
  },
  {
   "cell_type": "markdown",
   "id": "a168a18f",
   "metadata": {},
   "source": [
    "## Tiles boundary update after crossover of parents"
   ]
  },
  {
   "cell_type": "code",
   "execution_count": null,
   "id": "71b8a923",
   "metadata": {},
   "outputs": [],
   "source": [
    "def update_boundary(child):\n",
    "    \n",
    "    n = int(np.sqrt(child.shape[0]))\n",
    "    Cmat = child.reshape(n,n)\n",
    "    candidate_pairs = boundry_pairs(child)\n",
    "    candidate_pairs = [c for c in candidate_pairs if (c[0] == -1) != (c[1] == -1)]\n",
    "    \n",
    "    results = []\n",
    "    for cix in candidate_pairs:\n",
    "        a = cix[0]\n",
    "        b = cix[1]\n",
    "        o = cix[2]\n",
    "        ref = np.max([a,b])\n",
    "        n_neighbors = np.argsort(me[ref, :])\n",
    "        for nn in n_neighbors:\n",
    "            if ((nn in child) == False) & (meO[ref, nn] == o):\n",
    "                results.append((ref, nn, o, me[ref, nn], cix[3], (a,b)))\n",
    "                break\n",
    "    \n",
    "    if len(results) > 0:\n",
    "        result = sample(results, 1)[0]\n",
    "        if result[5][0] == -1:\n",
    "            rep_value = result[1]\n",
    "            ui = int(result[4][0][0])\n",
    "            yi = int(result[4][0][1])\n",
    "        else:\n",
    "            rep_value = result[1]\n",
    "            ui = int(result[4][1][0])\n",
    "            yi = int(result[4][1][1])\n",
    "        \n",
    "        Cmat[ui, yi] = rep_value\n",
    "        child = Cmat.reshape(1, -1)[0]\n",
    "    else:\n",
    "        idx = np.arange(child.shape[0])\n",
    "        missing_pieces = idx[np.isin(idx, child) == False]\n",
    "        np.random.shuffle(missing_pieces)\n",
    "        missing_pieces\n",
    "        iter = 0\n",
    "        for i in np.arange(child.shape[0]):\n",
    "            if child[i] == -1:\n",
    "                child[i] = missing_pieces[iter]\n",
    "                iter += 1\n",
    "                \n",
    "    return child"
   ]
  },
  {
   "cell_type": "markdown",
   "id": "4986ff8c",
   "metadata": {},
   "source": [
    "## Evolution Function"
   ]
  },
  {
   "cell_type": "code",
   "execution_count": null,
   "id": "cfc5c32c",
   "metadata": {},
   "outputs": [],
   "source": [
    "def evolution(pop, target, retain=0.2, random_select=0.05, mutate=0.01):\n",
    "    \n",
    "    categoryd = [ (fitness_score(x, target), x) for x in pop]\n",
    "    categoryd = [ x[1] for x in sorted(categoryd)]\n",
    "    retain_length = int(len(categoryd)*retain)\n",
    "    parents = categoryd[:retain_length]\n",
    "    \n",
    "    for individual in categoryd[retain_length:]:\n",
    "        if random_select > random():\n",
    "            parents.append(individual)\n",
    "            \n",
    "    for individual in parents:\n",
    "        if mutate > random():\n",
    "            individual = np.roll(individual, 1)\n",
    "            \n",
    "    parents_length = len(parents)\n",
    "    desired_length = len(pop) - parents_length\n",
    "    children = []\n",
    "    while len(children) < desired_length:\n",
    "        male = randint(0, parents_length - 1)\n",
    "        female = randint(0, parents_length-1)\n",
    "        if male != female:\n",
    "            male = parents[male]\n",
    "            female = parents[female]\n",
    "            child = crossover(np.array(male), np.array(female))\n",
    "            child = child.tolist()\n",
    "            children.append(child)\n",
    "            \n",
    "    parents.extend(children)\n",
    "    return parents"
   ]
  }
 ],
 "metadata": {
  "kernelspec": {
   "display_name": "Python 3",
   "language": "python",
   "name": "python3"
  },
  "language_info": {
   "codemirror_mode": {
    "name": "ipython",
    "version": 3
   },
   "file_extension": ".py",
   "mimetype": "text/x-python",
   "name": "python",
   "nbconvert_exporter": "python",
   "pygments_lexer": "ipython3",
   "version": "3.7.8 (tags/v3.7.8:4b47a5b6ba, Jun 28 2020, 07:55:33) [MSC v.1916 32 bit (Intel)]"
  },
  "vscode": {
   "interpreter": {
    "hash": "8e3c5412d127b71a39bd50c0851b955ec72ce07db8f1c3caaf0030d7c834f443"
   }
  }
 },
 "nbformat": 4,
 "nbformat_minor": 5
}
